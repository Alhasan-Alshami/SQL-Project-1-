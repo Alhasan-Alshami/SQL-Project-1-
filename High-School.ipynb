{
 "cells": [
  {
   "cell_type": "markdown",
   "metadata": {},
   "source": [
    "### (SQL, Jupyter Notebook) Project\n"
   ]
  },
  {
   "cell_type": "markdown",
   "metadata": {},
   "source": [
    "#### Suppose there is a school, and we want to create a central database to include all information about teachers, students, and materials.\n",
    "\n",
    "#### Following information must be stored in:\n",
    "\n",
    "1. student (student’s serial number, student’s name, date of birth, Student gender, enrollment date, student email, academic level, track, student GPA)\n",
    "2. teachers (teacher’s serial number, teacher’s name, date of birth, teacher’s gender, teacher’s email, office number)\n",
    "3. Materials (Material serial number , Material Name).\n",
    "\n",
    "### Requirements:\n",
    "\n",
    "1.  Use comments to clarify commands.\n",
    "2.  Create the database.\n",
    "3.  Create tables.\n",
    "4.  View available tables in the database.\n",
    "5.  Enter information for a minimum of 30 students.\n",
    "6.  Enter information for a minimum of 10 teachers.\n",
    "7.  Enter information for a minimum of 6 subjects.\n",
    "8.  Display the contents of all tables.\n",
    "9.  View the contents of the Student table with the rows arranged in ascending order by student name.\n",
    "10. Displays the contents of the Students table, giving the “Student Name” field an alias to shorten or make the column name more meaningful.\n",
    "\n",
    "### Data modification:\n",
    "\n",
    "11. Modifying a student’s data and changing the student’s email.\n",
    "12. Modifying a teacher’s data and changing his office number.\n",
    "13. Modification of tables.\n",
    "14. Modify the name of a table.\n",
    "\n",
    "### Notes:\n",
    "\n",
    "1. The serial number is id.\n",
    "2. Gender (F or M).\n",
    "3. The academic level consists of six levels (1, 2, 3, 4, 5, 6).\n",
    "4. Path (scientific or humanitarian).\n",
    "5. Cumulative GPA out of 100.\n"
   ]
  },
  {
   "cell_type": "markdown",
   "metadata": {},
   "source": [
    "---\n"
   ]
  },
  {
   "cell_type": "markdown",
   "metadata": {},
   "source": [
    "# Creating Database\n"
   ]
  },
  {
   "cell_type": "code",
   "execution_count": null,
   "metadata": {
    "vscode": {
     "languageId": "sql"
    }
   },
   "outputs": [],
   "source": [
    "CREATE DATABASE High_school;"
   ]
  },
  {
   "cell_type": "markdown",
   "metadata": {},
   "source": [
    "### Giving permission to use the database\n"
   ]
  },
  {
   "cell_type": "code",
   "execution_count": null,
   "metadata": {
    "vscode": {
     "languageId": "sql"
    }
   },
   "outputs": [],
   "source": [
    "USE High_school;"
   ]
  },
  {
   "cell_type": "markdown",
   "metadata": {},
   "source": [
    "### Create a new table with columns for Students\n"
   ]
  },
  {
   "cell_type": "code",
   "execution_count": null,
   "metadata": {
    "vscode": {
     "languageId": "sql"
    }
   },
   "outputs": [],
   "source": [
    "CREATE TABLE\n",
    "    Students (\n",
    "        Student_id INT,\n",
    "        Student_name CHAR(225),\n",
    "        Birth_date DATE,\n",
    "        Student_gender CHAR(1),\n",
    "        Enrollment_date DATE,\n",
    "        Student_email VARCHAR(225),\n",
    "        Academic_level INT,\n",
    "        Track CHAR(225),\n",
    "        Student_GPA INT\n",
    "    );"
   ]
  },
  {
   "cell_type": "markdown",
   "metadata": {},
   "source": [
    "### Add data to table Students\n"
   ]
  },
  {
   "cell_type": "code",
   "execution_count": null,
   "metadata": {
    "vscode": {
     "languageId": "sql"
    }
   },
   "outputs": [],
   "source": [
    "INSERT INTO\n",
    "    Students (\n",
    "        Student_id,\n",
    "        Student_name,\n",
    "        Birth_date,\n",
    "        Student_gender,\n",
    "        Enrollment_date,\n",
    "        Student_email,\n",
    "        Academic_level,\n",
    "        Track,\n",
    "        Student_GPA\n",
    "    )\n",
    "VALUES\n",
    "    (\n",
    "        1,\n",
    "        'Ali Ahmed',\n",
    "        '2005-03-15',\n",
    "        'M',\n",
    "        '2021-09-01',\n",
    "        'ali.ahmed@example.com',\n",
    "        1,\n",
    "        'Scientific',\n",
    "        95.00\n",
    "    ),\n",
    "    (\n",
    "        2,\n",
    "        'Fatima Mohamed',\n",
    "        '2004-06-20',\n",
    "        'F',\n",
    "        '2021-09-01',\n",
    "        'fatima.mohamed@example.com',\n",
    "        2,\n",
    "        'Humanitarian',\n",
    "        87.50\n",
    "    ),\n",
    "    (\n",
    "        3,\n",
    "        'Omar Khan',\n",
    "        '2006-02-05',\n",
    "        'M',\n",
    "        '2021-09-01',\n",
    "        'omar.khan@example.com',\n",
    "        3,\n",
    "        'Scientific',\n",
    "        64.00\n",
    "    ),\n",
    "    (\n",
    "        4,\n",
    "        'Aisha Patel',\n",
    "        '2005-11-12',\n",
    "        'F',\n",
    "        '2021-09-01',\n",
    "        'aisha.patel@example.com',\n",
    "        4,\n",
    "        'Humanitarian',\n",
    "        78.00\n",
    "    ),\n",
    "    (\n",
    "        5,\n",
    "        'Elijah Davis',\n",
    "        '2005-08-30',\n",
    "        'M',\n",
    "        '2021-09-01',\n",
    "        'elijah.davis@example.com',\n",
    "        5,\n",
    "        'Scientific',\n",
    "        97.50\n",
    "    ),\n",
    "    (\n",
    "        6,\n",
    "        'Sophia Johnson',\n",
    "        '2004-04-22',\n",
    "        'F',\n",
    "        '2021-09-01',\n",
    "        'sophia.johnson@example.com',\n",
    "        6,\n",
    "        'Humanitarian',\n",
    "        82.50\n",
    "    ),\n",
    "    (\n",
    "        7,\n",
    "        'Caleb Smith',\n",
    "        '2006-01-08',\n",
    "        'M',\n",
    "        '2021-09-01',\n",
    "        'caleb.smith@example.com',\n",
    "        1,\n",
    "        'Scientific',\n",
    "        88.50\n",
    "    ),\n",
    "    (\n",
    "        8,\n",
    "        'Zoe Wilson',\n",
    "        '2004-09-18',\n",
    "        'F',\n",
    "        '2021-09-01',\n",
    "        'zoe.wilson@example.com',\n",
    "        2,\n",
    "        'Humanitarian',\n",
    "        95.00\n",
    "    ),\n",
    "    (\n",
    "        9,\n",
    "        'Mason Davis',\n",
    "        '2005-07-04',\n",
    "        'M',\n",
    "        '2021-09-01',\n",
    "        'mason.davis@example.com',\n",
    "        3,\n",
    "        'Scientific',\n",
    "        87.50\n",
    "    ),\n",
    "    (\n",
    "        10,\n",
    "        'Emma Brown',\n",
    "        '2006-04-30',\n",
    "        'F',\n",
    "        '2021-09-01',\n",
    "        'emma.brown@example.com',\n",
    "        4,\n",
    "        'Humanitarian',\n",
    "        88.50\n",
    "    ),\n",
    "    (\n",
    "        11,\n",
    "        'Liam Taylor',\n",
    "        '2005-02-15',\n",
    "        'M',\n",
    "        '2021-09-01',\n",
    "        'liam.taylor@example.com',\n",
    "        5,\n",
    "        'Scientific',\n",
    "        100.00\n",
    "    ),\n",
    "    (\n",
    "        12,\n",
    "        'Olivia White',\n",
    "        '2004-10-10',\n",
    "        'F',\n",
    "        '2021-09-01',\n",
    "        'olivia.white@example.com',\n",
    "        6,\n",
    "        'Humanitarian',\n",
    "        85.00\n",
    "    ),\n",
    "    (\n",
    "        13,\n",
    "        'Noah Martin',\n",
    "        '2005-06-25',\n",
    "        'M',\n",
    "        '2021-09-01',\n",
    "        'noah.martin@example.com',\n",
    "        1,\n",
    "        'Scientific',\n",
    "        97.50\n",
    "    ),\n",
    "    (\n",
    "        14,\n",
    "        'Ava Anderson',\n",
    "        '2004-12-20',\n",
    "        'F',\n",
    "        '2021-09-01',\n",
    "        'ava.anderson@example.com',\n",
    "        2,\n",
    "        'Humanitarian',\n",
    "        87.50\n",
    "    ),\n",
    "    (\n",
    "        15,\n",
    "        'Jackson Lee',\n",
    "        '2005-09-05',\n",
    "        'M',\n",
    "        '2021-09-01',\n",
    "        'jackson.lee@example.com',\n",
    "        3,\n",
    "        'Scientific',\n",
    "        64.00\n",
    "    ),\n",
    "    (\n",
    "        16,\n",
    "        'Isabella Harris',\n",
    "        '2006-05-01',\n",
    "        'F',\n",
    "        '2021-09-01',\n",
    "        'isabella.harris@example.com',\n",
    "        4,\n",
    "        'Humanitarian',\n",
    "        82.50\n",
    "    ),\n",
    "    (\n",
    "        17,\n",
    "        'Aiden Clark',\n",
    "        '2005-01-15',\n",
    "        'M',\n",
    "        '2021-09-01',\n",
    "        'aiden.clark@example.com',\n",
    "        5,\n",
    "        'Scientific',\n",
    "        95.00\n",
    "    ),\n",
    "    (\n",
    "        18,\n",
    "        'Mia Turner',\n",
    "        '2004-07-10',\n",
    "        'F',\n",
    "        '2021-09-01',\n",
    "        'mia.turner@example.com',\n",
    "        6,\n",
    "        'Humanitarian',\n",
    "        87.50\n",
    "    ),\n",
    "    (\n",
    "        19,\n",
    "        'Ethan King',\n",
    "        '2006-03-25',\n",
    "        'M',\n",
    "        '2021-09-01',\n",
    "        'ethan.king@example.com',\n",
    "        1,\n",
    "        'Scientific',\n",
    "        88.50\n",
    "    ),\n",
    "    (\n",
    "        20,\n",
    "        'Sophie Evans',\n",
    "        '2005-11-20',\n",
    "        'F',\n",
    "        '2021-09-01',\n",
    "        'sophie.evans@example.com',\n",
    "        2,\n",
    "        'Humanitarian',\n",
    "        97.50\n",
    "    ),\n",
    "    (\n",
    "        21,\n",
    "        'Landon Carter',\n",
    "        '2004-08-05',\n",
    "        'M',\n",
    "        '2021-09-01',\n",
    "        'landon.carter@example.com',\n",
    "        3,\n",
    "        'Scientific',\n",
    "        85.00\n",
    "    ),\n",
    "    (\n",
    "        22,\n",
    "        'Aria Miller',\n",
    "        '2006-04-01',\n",
    "        'F',\n",
    "        '2021-09-01',\n",
    "        'aria.miller@example.com',\n",
    "        4,\n",
    "        'Humanitarian',\n",
    "        88.50\n",
    "    ),\n",
    "    (\n",
    "        23,\n",
    "        'Carter Robinson',\n",
    "        '2005-12-15',\n",
    "        'M',\n",
    "        '2021-09-01',\n",
    "        'carter.robinson@example.com',\n",
    "        5,\n",
    "        'Scientific',\n",
    "        87.50\n",
    "    ),\n",
    "    (\n",
    "        24,\n",
    "        'Grace Brown',\n",
    "        '2004-07-30',\n",
    "        'F',\n",
    "        '2021-09-01',\n",
    "        'grace.brown@example.com',\n",
    "        1,\n",
    "        'Humanitarian',\n",
    "        85.00\n",
    "    ),\n",
    "    (\n",
    "        25,\n",
    "        'Lucas Baker',\n",
    "        '2006-02-14',\n",
    "        'M',\n",
    "        '2021-09-01',\n",
    "        'lucas.baker@example.com',\n",
    "        2,\n",
    "        'Scientific',\n",
    "        82.50\n",
    "    ),\n",
    "    (\n",
    "        26,\n",
    "        'Aaliyah Cooper',\n",
    "        '2005-10-10',\n",
    "        'F',\n",
    "        '2021-09-01',\n",
    "        'aaliyah.cooper@example.com',\n",
    "        3,\n",
    "        'Humanitarian',\n",
    "        88.50\n",
    "    ),\n",
    "    (\n",
    "        27,\n",
    "        'Logan Taylor',\n",
    "        '2004-06-05',\n",
    "        'M',\n",
    "        '2021-09-01',\n",
    "        'logan.taylor@example.com',\n",
    "        4,\n",
    "        'Scientific',\n",
    "        97.50\n",
    "    ),\n",
    "    (\n",
    "        28,\n",
    "        'Sofia Wright',\n",
    "        '2006-01-20',\n",
    "        'F',\n",
    "        '2021-09-01',\n",
    "        'sofia.wright@example.com',\n",
    "        5,\n",
    "        'Humanitarian',\n",
    "        87.50\n",
    "    ),\n",
    "    (\n",
    "        29,\n",
    "        'Eli Davis',\n",
    "        '2005-09-15',\n",
    "        'M',\n",
    "        '2021-09-01',\n",
    "        'eli.davis@example.com',\n",
    "        6,\n",
    "        'Scientific',\n",
    "        85.00\n",
    "    ),\n",
    "    (\n",
    "        30,\n",
    "        'Lily Johnson',\n",
    "        '2004-05-01',\n",
    "        'F',\n",
    "        '2021-09-01',\n",
    "        'lily.johnson@example.com',\n",
    "        1,\n",
    "        'Humanitarian',\n",
    "        64.00\n",
    "    );"
   ]
  },
  {
   "cell_type": "markdown",
   "metadata": {},
   "source": [
    "### Show Table (students)\n"
   ]
  },
  {
   "cell_type": "code",
   "execution_count": null,
   "metadata": {
    "vscode": {
     "languageId": "sql"
    }
   },
   "outputs": [],
   "source": [
    "SELECT\n",
    "    *\n",
    "FROM\n",
    "    students;"
   ]
  },
  {
   "cell_type": "markdown",
   "metadata": {},
   "source": [
    "---\n"
   ]
  },
  {
   "cell_type": "markdown",
   "metadata": {},
   "source": [
    "### Create a new table with columns for Teachers\n"
   ]
  },
  {
   "cell_type": "code",
   "execution_count": null,
   "metadata": {
    "vscode": {
     "languageId": "sql"
    }
   },
   "outputs": [],
   "source": [
    "CREATE TABLE\n",
    "    Teachers (\n",
    "        Teacher_id INT,\n",
    "        Teacher_name CHAR(225),\n",
    "        Birth_date DATE,\n",
    "        Teacher_gender CHAR(1),\n",
    "        Teacher_email VARCHAR(225),\n",
    "        Office_number INT\n",
    "    );"
   ]
  },
  {
   "cell_type": "markdown",
   "metadata": {},
   "source": [
    "### Add data to table Teachers\n"
   ]
  },
  {
   "cell_type": "code",
   "execution_count": null,
   "metadata": {
    "vscode": {
     "languageId": "sql"
    }
   },
   "outputs": [],
   "source": [
    "INSERT INTO\n",
    "    teachers (\n",
    "        Teacher_id,\n",
    "        Teacher_name,\n",
    "        Birth_date,\n",
    "        Teacher_gender,\n",
    "        Teacher_email,\n",
    "        Office_number\n",
    "    )\n",
    "VALUES\n",
    "    (\n",
    "        1,\n",
    "        'Youssef Mahmoud',\n",
    "        '1977-03-15',\n",
    "        'M',\n",
    "        'youssef.mahmoud@example.com',\n",
    "        '0111'\n",
    "    ),\n",
    "    (\n",
    "        2,\n",
    "        'Layla Abadi',\n",
    "        '1980-06-20',\n",
    "        'F',\n",
    "        'layla.abadi@example.com',\n",
    "        '0222'\n",
    "    ),\n",
    "    (\n",
    "        3,\n",
    "        'Khaled Farid',\n",
    "        '1975-02-05',\n",
    "        'M',\n",
    "        'khaled.farid@example.com',\n",
    "        '0333'\n",
    "    ),\n",
    "    (\n",
    "        4,\n",
    "        'Sara Hamdi',\n",
    "        '1978-11-12',\n",
    "        'F',\n",
    "        'sara.hamdi@example.com',\n",
    "        '0444'\n",
    "    ),\n",
    "    (\n",
    "        5,\n",
    "        'Amir Said',\n",
    "        '1985-08-30',\n",
    "        'M',\n",
    "        'amir.said@example.com',\n",
    "        '0555'\n",
    "    ),\n",
    "    (\n",
    "        6,\n",
    "        'Nadia Kamal',\n",
    "        '1982-04-22',\n",
    "        'F',\n",
    "        'nadia.kamal@example.com',\n",
    "        '0666'\n",
    "    ),\n",
    "    (\n",
    "        7,\n",
    "        'Tariq Nassar',\n",
    "        '1986-01-08',\n",
    "        'M',\n",
    "        'tariq.nassar@example.com',\n",
    "        '0777'\n",
    "    ),\n",
    "    (\n",
    "        8,\n",
    "        'Lina Abassi',\n",
    "        '1979-09-18',\n",
    "        'F',\n",
    "        'lina.abassi@example.com',\n",
    "        '0888'\n",
    "    ),\n",
    "    (\n",
    "        9,\n",
    "        'Majid Ahmed',\n",
    "        '1984-07-04',\n",
    "        'M',\n",
    "        'majid.ahmed@example.com',\n",
    "        '0999'\n",
    "    ),\n",
    "    (\n",
    "        10,\n",
    "        'Leila Khoury',\n",
    "        '1982-04-30',\n",
    "        'F',\n",
    "        'leila.khoury@example.com',\n",
    "        '1010'\n",
    "    );"
   ]
  },
  {
   "cell_type": "markdown",
   "metadata": {},
   "source": [
    "### Show Table (teachers)\n"
   ]
  },
  {
   "cell_type": "code",
   "execution_count": null,
   "metadata": {
    "vscode": {
     "languageId": "sql"
    }
   },
   "outputs": [],
   "source": [
    "SELECT\n",
    "    *\n",
    "FROM\n",
    "    teachers;"
   ]
  },
  {
   "cell_type": "markdown",
   "metadata": {},
   "source": [
    "---\n"
   ]
  },
  {
   "cell_type": "markdown",
   "metadata": {},
   "source": [
    "### Create a new table with columns for Materials\n"
   ]
  },
  {
   "cell_type": "code",
   "execution_count": null,
   "metadata": {
    "vscode": {
     "languageId": "sql"
    }
   },
   "outputs": [],
   "source": [
    "CREATE TABLE\n",
    "    Materials (Material_id INT, Material_name CHAR(225));"
   ]
  },
  {
   "cell_type": "markdown",
   "metadata": {},
   "source": [
    "### Add data to table Materials\n"
   ]
  },
  {
   "cell_type": "code",
   "execution_count": null,
   "metadata": {
    "vscode": {
     "languageId": "sql"
    }
   },
   "outputs": [],
   "source": [
    "INSERT INTO\n",
    "    materials (Material_id, Material_name)\n",
    "VALUES\n",
    "    (1, 'Math'),\n",
    "    (2, 'English'),\n",
    "    (3, 'Arabic'),\n",
    "    (4, 'Computer'),\n",
    "    (5, 'Science'),\n",
    "    (6, 'Geology');"
   ]
  },
  {
   "cell_type": "markdown",
   "metadata": {},
   "source": [
    "### Show Table (materials)\n"
   ]
  },
  {
   "cell_type": "code",
   "execution_count": null,
   "metadata": {
    "vscode": {
     "languageId": "sql"
    }
   },
   "outputs": [],
   "source": [
    "SELECT\n",
    "    *\n",
    "FROM\n",
    "    materials;"
   ]
  },
  {
   "cell_type": "markdown",
   "metadata": {},
   "source": [
    "---\n"
   ]
  },
  {
   "cell_type": "markdown",
   "metadata": {},
   "source": [
    "### Show all tables in the database\n"
   ]
  },
  {
   "cell_type": "code",
   "execution_count": null,
   "metadata": {
    "vscode": {
     "languageId": "sql"
    }
   },
   "outputs": [],
   "source": [
    "SHOW TABLES;"
   ]
  },
  {
   "cell_type": "markdown",
   "metadata": {},
   "source": [
    "### Viewing Students table in ascending order by student name\n"
   ]
  },
  {
   "cell_type": "code",
   "execution_count": null,
   "metadata": {
    "vscode": {
     "languageId": "sql"
    }
   },
   "outputs": [],
   "source": [
    "SELECT\n",
    "    Student_name\n",
    "FROM\n",
    "    students\n",
    "ORDER BY\n",
    "    Student_name ASC;"
   ]
  },
  {
   "cell_type": "markdown",
   "metadata": {},
   "source": [
    "### Display the Students table, aliasing \"Student Name\" for brevity and clarity\n"
   ]
  },
  {
   "cell_type": "code",
   "execution_count": null,
   "metadata": {
    "vscode": {
     "languageId": "sql"
    }
   },
   "outputs": [],
   "source": [
    "SELECT\n",
    "    Student_name AS Name\n",
    "FROM\n",
    "    Students;"
   ]
  },
  {
   "cell_type": "markdown",
   "metadata": {},
   "source": [
    "---\n"
   ]
  },
  {
   "cell_type": "markdown",
   "metadata": {},
   "source": [
    "### Modifying a student’s data and changing the student_email\n"
   ]
  },
  {
   "cell_type": "code",
   "execution_count": null,
   "metadata": {
    "vscode": {
     "languageId": "sql"
    }
   },
   "outputs": [],
   "source": [
    "UPDATE students\n",
    "SET\n",
    "    Student_email = 'ali.bin.ahmed@example.com'\n",
    "WHERE\n",
    "    Student_id = 1;"
   ]
  },
  {
   "cell_type": "markdown",
   "metadata": {},
   "source": [
    "### Modifying a teacher’s data and changing his office number\n"
   ]
  },
  {
   "cell_type": "code",
   "execution_count": null,
   "metadata": {
    "vscode": {
     "languageId": "sql"
    }
   },
   "outputs": [],
   "source": [
    "UPDATE Teachers\n",
    "SET\n",
    "    Office_number = 1111\n",
    "WHERE\n",
    "    Teacher_id = 1;"
   ]
  },
  {
   "cell_type": "markdown",
   "metadata": {},
   "source": [
    "### Modify the name of a table\n"
   ]
  },
  {
   "cell_type": "code",
   "execution_count": null,
   "metadata": {
    "vscode": {
     "languageId": "sql"
    }
   },
   "outputs": [],
   "source": [
    "ALTER TABLE students\n",
    "RENAME TO Students;"
   ]
  },
  {
   "cell_type": "markdown",
   "metadata": {},
   "source": [
    "---\n"
   ]
  }
 ],
 "metadata": {
  "language_info": {
   "name": "python"
  }
 },
 "nbformat": 4,
 "nbformat_minor": 2
}
